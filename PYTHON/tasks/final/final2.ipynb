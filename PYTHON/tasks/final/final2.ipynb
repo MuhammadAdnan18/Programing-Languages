{
 "cells": [
  {
   "cell_type": "code",
   "execution_count": 2,
   "metadata": {},
   "outputs": [
    {
     "name": "stdout",
     "output_type": "stream",
     "text": [
      "This is Honda with registration no of 164 and top speed of 156Km/hr is now started\n",
      "i am the patrent class function\n"
     ]
    }
   ],
   "source": [
    "#classes and objects \n",
    "#classes are a generalized form or blue print of what the object will be eg class=person, object =Adnan\n",
    "#like other languages to create an object first we create a constructor but in python it is done with the help of __init__(self)\n",
    "\n",
    "class Vehicle:\n",
    "#constructor    \n",
    "    def __init__(self,n,m,r,s):\n",
    "        self.name=n \n",
    "        self.model=m\n",
    "        self.reg_no=r\n",
    "        self.speed=s\n",
    "    \n",
    "#behaivior/method/function\n",
    "    def drive(self):\n",
    "        print(f'This is {self.name} with registration no of {self.reg_no} and top speed of {self.speed}Km/hr is now started') \n",
    "    def follow(self):\n",
    "        print('i am the patrent class function')\n",
    "           \n",
    "#creatig object \n",
    "honda=Vehicle('Honda',2011,164,156)\n",
    "\n",
    "honda.drive()\n",
    "honda.follow()\n",
    "\n",
    "\n"
   ]
  },
  {
   "cell_type": "code",
   "execution_count": 3,
   "metadata": {},
   "outputs": [
    {
     "name": "stdout",
     "output_type": "stream",
     "text": [
      "This is super with registration no of 183 and top speed of 220Km/hr is now started\n",
      "This is super with registration no of 183 and top speed of 220Km/hr is now stopped\n"
     ]
    }
   ],
   "source": [
    "\n",
    "#child class of bike inheriting vehicle\n",
    "class bike(Vehicle):\n",
    "    def __init__(self, n, m, r, s):\n",
    "        Vehicle.__init__(self, n, m, r, s)\n",
    "        \n",
    "         \n",
    "    def stop(self):\n",
    "        print(f'This is {self.name} with registration no of {self.reg_no} and top speed of {self.speed}Km/hr is now stopped') \n",
    "        \n",
    "Super125=bike('super',2015,183,220)\n",
    "#drive method inherited by bike class from vehicle class\n",
    "Super125.drive()\n",
    "Super125.stop()"
   ]
  }
 ],
 "metadata": {
  "kernelspec": {
   "display_name": "Python 3",
   "language": "python",
   "name": "python3"
  },
  "language_info": {
   "codemirror_mode": {
    "name": "ipython",
    "version": 3
   },
   "file_extension": ".py",
   "mimetype": "text/x-python",
   "name": "python",
   "nbconvert_exporter": "python",
   "pygments_lexer": "ipython3",
   "version": "3.10.7"
  },
  "orig_nbformat": 4,
  "vscode": {
   "interpreter": {
    "hash": "369f2c481f4da34e4445cda3fffd2e751bd1c4d706f27375911949ba6bb62e1c"
   }
  }
 },
 "nbformat": 4,
 "nbformat_minor": 2
}
